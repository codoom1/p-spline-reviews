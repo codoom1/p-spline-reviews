{
 "cells": [
  {
   "cell_type": "markdown",
   "id": "0e246cdd",
   "metadata": {},
   "source": [
    "# Derivative Estimation using Local Polynomial Fitting\n",
    "This notebook implements derivative estimation using local polynomial fitting based on De Brabanter's method."
   ]
  },
  {
   "cell_type": "markdown",
   "id": "7bb9cc62",
   "metadata": {},
   "source": [
    "## Import Required Libraries\n",
    "We'll import the necessary Python libraries for numerical computations and visualization."
   ]
  },
  {
   "cell_type": "code",
   "execution_count": null,
   "id": "4a3ca8d3",
   "metadata": {},
   "outputs": [],
   "source": [
    "import numpy as np\n",
    "import scipy.linalg as la\n",
    "from scipy.stats import norm\n",
    "import matplotlib.pyplot as plt\n",
    "plt.style.use('seaborn')"
   ]
  },
  {
   "cell_type": "markdown",
   "id": "2adeac58",
   "metadata": {},
   "source": [
    "## Generate Synthetic Data\n",
    "Generate test data from a known function with added noise to evaluate the derivative estimation method."
   ]
  },
  {
   "cell_type": "code",
   "execution_count": null,
   "id": "b58aea6d",
   "metadata": {},
   "outputs": [],
   "source": [
    "# Generate true function and its derivative\n",
    "def true_function(x):\n",
    "    return np.sin(2 * np.pi * x) * np.exp(-x/2)\n",
    "\n",
    "def true_derivative(x):\n",
    "    return np.exp(-x/2) * (2 * np.pi * np.cos(2 * np.pi * x) - 0.5 * np.sin(2 * np.pi * x))\n",
    "\n",
    "# Generate noisy observations\n",
    "n_points = 100\n",
    "x = np.linspace(0, 4, n_points)\n",
    "y = true_function(x) + np.random.normal(0, 0.1, n_points)"
   ]
  },
  {
   "cell_type": "markdown",
   "id": "eea415a6",
   "metadata": {},
   "source": [
    "## Define Local Polynomial Fitting Function\n",
    "Implement the local polynomial fitting algorithm using weighted least squares estimation."
   ]
  },
  {
   "cell_type": "code",
   "execution_count": null,
   "id": "3659c6af",
   "metadata": {},
   "outputs": [],
   "source": [
    "def local_polynomial_fit(x, y, x0, h, p=1):\n",
    "    \"\"\"\n",
    "    Local polynomial fitting at point x0\n",
    "    \n",
    "    Parameters:\n",
    "    x: input points\n",
    "    y: observed values\n",
    "    x0: point at which to estimate\n",
    "    h: bandwidth\n",
    "    p: polynomial degree\n",
    "    \"\"\"\n",
    "    # Calculate weights\n",
    "    weights = norm.pdf((x - x0) / h)\n",
    "    \n",
    "    # Create design matrix\n",
    "    X = np.vstack([((x - x0) ** i) for i in range(p + 1)]).T\n",
    "    W = np.diag(weights)\n",
    "    \n",
    "    # Weighted least squares\n",
    "    beta = la.solve(X.T @ W @ X, X.T @ W @ y)\n",
    "    \n",
    "    # Return estimate and derivative\n",
    "    return beta[0], beta[1] if p >= 1 else None"
   ]
  },
  {
   "cell_type": "markdown",
   "id": "c701d835",
   "metadata": {},
   "source": [
    "## Estimate Derivatives\n",
    "Apply the local polynomial fitting method to estimate derivatives across the input range."
   ]
  },
  {
   "cell_type": "code",
   "execution_count": null,
   "id": "9e933a58",
   "metadata": {},
   "outputs": [],
   "source": [
    "# Estimate derivatives\n",
    "x_eval = np.linspace(0, 4, 200)\n",
    "y_est = []\n",
    "dy_est = []\n",
    "\n",
    "h = 0.2  # bandwidth parameter\n",
    "for x0 in x_eval:\n",
    "    f_est, df_est = local_polynomial_fit(x, y, x0, h, p=2)\n",
    "    y_est.append(f_est)\n",
    "    dy_est.append(df_est)\n",
    "\n",
    "y_est = np.array(y_est)\n",
    "dy_est = np.array(dy_est)"
   ]
  },
  {
   "cell_type": "markdown",
   "id": "2058bb5f",
   "metadata": {},
   "source": [
    "## Visualize Results\n",
    "Compare the estimated derivatives with the true derivatives and plot the results."
   ]
  },
  {
   "cell_type": "code",
   "execution_count": null,
   "id": "06395923",
   "metadata": {},
   "outputs": [],
   "source": [
    "# Create subplots\n",
    "fig, (ax1, ax2) = plt.subplots(2, 1, figsize=(10, 8))\n",
    "\n",
    "# Plot function estimates\n",
    "ax1.scatter(x, y, alpha=0.5, label='Noisy data')\n",
    "ax1.plot(x_eval, true_function(x_eval), 'r-', label='True function')\n",
    "ax1.plot(x_eval, y_est, 'b--', label='Estimated function')\n",
    "ax1.legend()\n",
    "ax1.set_title('Function Estimation')\n",
    "\n",
    "# Plot derivative estimates\n",
    "ax2.plot(x_eval, true_derivative(x_eval), 'r-', label='True derivative')\n",
    "ax2.plot(x_eval, dy_est, 'b--', label='Estimated derivative')\n",
    "ax2.legend()\n",
    "ax2.set_title('Derivative Estimation')\n",
    "\n",
    "plt.tight_layout()\n",
    "plt.show()"
   ]
  }
 ],
 "metadata": {
  "language_info": {
   "name": "python"
  }
 },
 "nbformat": 4,
 "nbformat_minor": 5
}
